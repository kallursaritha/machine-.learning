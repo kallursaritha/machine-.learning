{
 "cells": [
  {
   "cell_type": "code",
   "execution_count": 2,
   "id": "89c2edc1",
   "metadata": {},
   "outputs": [],
   "source": [
    "import cv2\n",
    "import numpy as np\n",
    "import matplotlib.pyplot as plt"
   ]
  },
  {
   "cell_type": "code",
   "execution_count": null,
   "id": "b38302ab",
   "metadata": {},
   "outputs": [],
   "source": [
    "img = cv2.imread(\"marguerite-729510_1280.jpg\", cv2.IMREAD_COLOR)\n",
    "cv2.imshow(\"image\", img)\n",
    "cv2.waitKey(0)\n",
    "cv2.destroyAllWindows()"
   ]
  },
  {
   "cell_type": "code",
   "execution_count": null,
   "id": "9f1512ed",
   "metadata": {},
   "outputs": [],
   "source": [
    "\n",
    "img=cv2.imread(\"marguerite-729510_1280.jpg\")\n",
    "#Displaying image using plt.imshow() method\n",
    "plt.imshow(img)\n"
   ]
  },
  {
   "cell_type": "code",
   "execution_count": null,
   "id": "a24e15c2",
   "metadata": {},
   "outputs": [],
   "source": [
    "img=cv2.imread(\"marguerite-729510_1280.jpg\")\n",
    " \n",
    "# Converting BGR color to RGB color format\n",
    "RGB_img = cv2.cvtColor(img, cv2.COLOR_BGR2RGB)\n",
    " \n",
    "#Displaying image using plt.imshow() method\n",
    "plt.imshow(RGB_img)\n",
    " \n",
    "# hold the window\n",
    "plt.waitforbuttonpress()\n",
    "plt.close('all')"
   ]
  },
  {
   "cell_type": "code",
   "execution_count": null,
   "id": "3f4aa5d2",
   "metadata": {},
   "outputs": [],
   "source": [
    "path = r'marguerite-729510_1280.jpg'\n",
    " \n",
    "# Using cv2.imread() method\n",
    "# Using 0 to read image in grayscale mode\n",
    "img = cv2.imread(path, cv2.IMREAD_GRAYSCALE)\n",
    " \n",
    "# Displaying the image\n",
    "cv2.imshow('image', img)\n",
    "cv2.waitKey(0)\n",
    "cv2.destroyAllWindows()"
   ]
  },
  {
   "cell_type": "code",
   "execution_count": null,
   "id": "e27f1327",
   "metadata": {},
   "outputs": [],
   "source": [
    "img.shape"
   ]
  },
  {
   "cell_type": "code",
   "execution_count": null,
   "id": "e3982c2a",
   "metadata": {},
   "outputs": [],
   "source": [
    "import cv2\n",
    "  \n",
    "# read the input image\n",
    "img = cv2.imread('marguerite-729510_1280.jpg')\n",
    "  \n",
    "# convert image from BGR\n",
    "# to GRAY scale\n",
    "gray = cv2.cvtColor(img, cv2.COLOR_BGR2GRAY)\n",
    "  \n",
    "# filter out the gradient representation \n",
    "# image to further process for \n",
    "# seam carving algorithm\n",
    "# filters.sobel() is used to \n",
    "# find edges in an image\n",
    "filtered = filters.sobel(gray.astype(\"float\"))\n",
    "  \n",
    "  \n",
    "for i in range(20, 180, 20):\n",
    "    \n",
    "    # apply seam carve to the image, \n",
    "    # iterating over the image for\n",
    "    # multiple frames\n",
    "    # transform.seam_carve() can transform \n",
    "    # the  seam of image vertically as\n",
    "    # well as horizontally\n",
    "    carved_image = transform.seam_carve(img,\n",
    "                                        filtered, \n",
    "                                        'vertical',\n",
    "                                        i)\n",
    "  \n",
    "# show the original image\n",
    "cv2.imshow(\"original\", img)\n",
    "  \n",
    "# show the carved image\n",
    "cv2.imshow(\"carved\", carved_image)\n",
    "  \n",
    "# print shape of both images\n",
    "print(\"Shape of original image \",\n",
    "      img.shape)\n",
    "print(\"Shape of Carved image \",\n",
    "      carved_image.shape)\n",
    "  \n",
    "# wait \n",
    "cv2.waitKey(0)"
   ]
  },
  {
   "cell_type": "code",
   "execution_count": null,
   "id": "2ac1c821",
   "metadata": {},
   "outputs": [],
   "source": [
    "image = cv2.imread(r\"marguerite-729510_1280.jpg\", 1)\n",
    "# Loading the image\n",
    " \n",
    "half = cv2.resize(image, (0, 0), fx = 0.1, fy = 0.1)\n",
    "bigger = cv2.resize(image, (1050, 1610))\n",
    " \n",
    "stretch_near = cv2.resize(image, (780, 540),\n",
    "               interpolation = cv2.INTER_LINEAR)\n",
    " \n",
    " \n",
    "Titles =[\"Original\", \"Half\", \"Bigger\", \"Interpolation Nearest\"]\n",
    "images =[image, half, bigger, stretch_near]\n",
    "count = 4\n",
    " \n",
    "for i in range(count):\n",
    "    plt.subplot(2, 2, i + 1)\n",
    "    plt.title(Titles[i])\n",
    "    plt.imshow(images[i])\n",
    " \n",
    "plt.show()"
   ]
  },
  {
   "cell_type": "code",
   "execution_count": 1,
   "id": "02914c32",
   "metadata": {},
   "outputs": [],
   "source": [
    "# organizing imports \n",
    "import cv2 \n",
    "import numpy as np \n",
    "    \n",
    "# path to input images are specified and  \n",
    "# images are loaded with imread command \n",
    "image1 = cv2.imread('1-500x250-3.jpg') \n",
    "image2 = cv2.imread('2-500x250-2.jpg')\n",
    "  \n",
    "# cv2.addWeighted is applied over the\n",
    "# image inputs with applied parameters\n",
    "weightedSum = cv2.addWeighted(image1, 0.5, image2, 0.4, 0)\n",
    "  \n",
    "# the window showing output image\n",
    "# with the weighted sum \n",
    "cv2.imshow('Weighted Image', weightedSum)\n",
    "  \n",
    "# De-allocate any associated memory usage  \n",
    "if cv2.waitKey(0) & 0xff == 27: \n",
    "    cv2.destroyAllWindows() "
   ]
  },
  {
   "cell_type": "code",
   "execution_count": 2,
   "id": "16edfa88",
   "metadata": {},
   "outputs": [],
   "source": [
    "# images are loaded with imread command \n",
    "image1 = cv2.imread('1-500x250-3.jpg') \n",
    "image2 = cv2.imread('2-500x250-2.jpg')\n",
    "  \n",
    "# cv2.subtract is applied over the\n",
    "# image inputs with applied parameters\n",
    "sub = cv2.subtract(image1, image2)\n",
    "  \n",
    "# the window showing output image\n",
    "# with the subtracted image \n",
    "cv2.imshow('Subtracted Image', sub)\n",
    "  \n",
    "# De-allocate any associated memory usage  \n",
    "if cv2.waitKey(0) & 0xff == 27: \n",
    "    cv2.destroyAllWindows() "
   ]
  },
  {
   "cell_type": "code",
   "execution_count": null,
   "id": "c6c2c104",
   "metadata": {},
   "outputs": [],
   "source": []
  }
 ],
 "metadata": {
  "kernelspec": {
   "display_name": "Python 3 (ipykernel)",
   "language": "python",
   "name": "python3"
  },
  "language_info": {
   "codemirror_mode": {
    "name": "ipython",
    "version": 3
   },
   "file_extension": ".py",
   "mimetype": "text/x-python",
   "name": "python",
   "nbconvert_exporter": "python",
   "pygments_lexer": "ipython3",
   "version": "3.11.0"
  }
 },
 "nbformat": 4,
 "nbformat_minor": 5
}
