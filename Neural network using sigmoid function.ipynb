{
 "cells": [
  {
   "cell_type": "code",
   "execution_count": 6,
   "id": "f355805d",
   "metadata": {},
   "outputs": [
    {
     "data": {
      "text/html": [
       "<div>\n",
       "<style scoped>\n",
       "    .dataframe tbody tr th:only-of-type {\n",
       "        vertical-align: middle;\n",
       "    }\n",
       "\n",
       "    .dataframe tbody tr th {\n",
       "        vertical-align: top;\n",
       "    }\n",
       "\n",
       "    .dataframe thead th {\n",
       "        text-align: right;\n",
       "    }\n",
       "</style>\n",
       "<table border=\"1\" class=\"dataframe\">\n",
       "  <thead>\n",
       "    <tr style=\"text-align: right;\">\n",
       "      <th></th>\n",
       "      <th>fixed acidity</th>\n",
       "      <th>volatile acidity</th>\n",
       "      <th>citric acid</th>\n",
       "      <th>residual sugar</th>\n",
       "      <th>chlorides</th>\n",
       "      <th>free sulfur dioxide</th>\n",
       "      <th>total sulfur dioxide</th>\n",
       "      <th>density</th>\n",
       "      <th>pH</th>\n",
       "      <th>sulphates</th>\n",
       "      <th>alcohol</th>\n",
       "      <th>quality</th>\n",
       "    </tr>\n",
       "  </thead>\n",
       "  <tbody>\n",
       "    <tr>\n",
       "      <th>0</th>\n",
       "      <td>7.4</td>\n",
       "      <td>0.70</td>\n",
       "      <td>0.00</td>\n",
       "      <td>1.9</td>\n",
       "      <td>0.076</td>\n",
       "      <td>11.0</td>\n",
       "      <td>34.0</td>\n",
       "      <td>0.9978</td>\n",
       "      <td>3.51</td>\n",
       "      <td>0.56</td>\n",
       "      <td>9.4</td>\n",
       "      <td>5</td>\n",
       "    </tr>\n",
       "    <tr>\n",
       "      <th>1</th>\n",
       "      <td>7.8</td>\n",
       "      <td>0.88</td>\n",
       "      <td>0.00</td>\n",
       "      <td>2.6</td>\n",
       "      <td>0.098</td>\n",
       "      <td>25.0</td>\n",
       "      <td>67.0</td>\n",
       "      <td>0.9968</td>\n",
       "      <td>3.20</td>\n",
       "      <td>0.68</td>\n",
       "      <td>9.8</td>\n",
       "      <td>5</td>\n",
       "    </tr>\n",
       "    <tr>\n",
       "      <th>2</th>\n",
       "      <td>7.8</td>\n",
       "      <td>0.76</td>\n",
       "      <td>0.04</td>\n",
       "      <td>2.3</td>\n",
       "      <td>0.092</td>\n",
       "      <td>15.0</td>\n",
       "      <td>54.0</td>\n",
       "      <td>0.9970</td>\n",
       "      <td>3.26</td>\n",
       "      <td>0.65</td>\n",
       "      <td>9.8</td>\n",
       "      <td>5</td>\n",
       "    </tr>\n",
       "    <tr>\n",
       "      <th>3</th>\n",
       "      <td>11.2</td>\n",
       "      <td>0.28</td>\n",
       "      <td>0.56</td>\n",
       "      <td>1.9</td>\n",
       "      <td>0.075</td>\n",
       "      <td>17.0</td>\n",
       "      <td>60.0</td>\n",
       "      <td>0.9980</td>\n",
       "      <td>3.16</td>\n",
       "      <td>0.58</td>\n",
       "      <td>9.8</td>\n",
       "      <td>6</td>\n",
       "    </tr>\n",
       "    <tr>\n",
       "      <th>4</th>\n",
       "      <td>7.4</td>\n",
       "      <td>0.70</td>\n",
       "      <td>0.00</td>\n",
       "      <td>1.9</td>\n",
       "      <td>0.076</td>\n",
       "      <td>11.0</td>\n",
       "      <td>34.0</td>\n",
       "      <td>0.9978</td>\n",
       "      <td>3.51</td>\n",
       "      <td>0.56</td>\n",
       "      <td>9.4</td>\n",
       "      <td>5</td>\n",
       "    </tr>\n",
       "  </tbody>\n",
       "</table>\n",
       "</div>"
      ],
      "text/plain": [
       "   fixed acidity  volatile acidity  citric acid  residual sugar  chlorides  \\\n",
       "0            7.4              0.70         0.00             1.9      0.076   \n",
       "1            7.8              0.88         0.00             2.6      0.098   \n",
       "2            7.8              0.76         0.04             2.3      0.092   \n",
       "3           11.2              0.28         0.56             1.9      0.075   \n",
       "4            7.4              0.70         0.00             1.9      0.076   \n",
       "\n",
       "   free sulfur dioxide  total sulfur dioxide  density    pH  sulphates  \\\n",
       "0                 11.0                  34.0   0.9978  3.51       0.56   \n",
       "1                 25.0                  67.0   0.9968  3.20       0.68   \n",
       "2                 15.0                  54.0   0.9970  3.26       0.65   \n",
       "3                 17.0                  60.0   0.9980  3.16       0.58   \n",
       "4                 11.0                  34.0   0.9978  3.51       0.56   \n",
       "\n",
       "   alcohol  quality  \n",
       "0      9.4        5  \n",
       "1      9.8        5  \n",
       "2      9.8        5  \n",
       "3      9.8        6  \n",
       "4      9.4        5  "
      ]
     },
     "execution_count": 6,
     "metadata": {},
     "output_type": "execute_result"
    }
   ],
   "source": [
    "import numpy as np\n",
    "import pandas as pd\n",
    "df = pd.read_csv('winequality-red[1].csv')\n",
    "df.head()"
   ]
  },
  {
   "cell_type": "markdown",
   "id": "a2aa48dc",
   "metadata": {},
   "source": [
    "# Now let’s divide our dataset."
   ]
  },
  {
   "cell_type": "code",
   "execution_count": 10,
   "id": "d4ca202d",
   "metadata": {},
   "outputs": [],
   "source": [
    "import tensorflow as tf\n",
    " \n",
    "# 75% of the data is selected\n",
    "train_df = df.sample(frac=0.75, random_state=4)\n",
    " \n",
    "# it drops the training data\n",
    "# from the original dataframe\n",
    "val_df = df.drop(train_df.index)"
   ]
  },
  {
   "cell_type": "code",
   "execution_count": 12,
   "id": "b477501f",
   "metadata": {},
   "outputs": [],
   "source": [
    "# calling to (0,1) range\n",
    "max_val = train_df.max(axis= 0)\n",
    "min_val = train_df.min(axis= 0)\n",
    " \n",
    "range = max_val - min_val\n",
    "train_df = (train_df - min_val)/(range)\n",
    " \n",
    "val_df =  (val_df- min_val)/range"
   ]
  },
  {
   "cell_type": "code",
   "execution_count": 14,
   "id": "650b33bc",
   "metadata": {},
   "outputs": [
    {
     "data": {
      "text/plain": [
       "[11]"
      ]
     },
     "execution_count": 14,
     "metadata": {},
     "output_type": "execute_result"
    }
   ],
   "source": [
    "# now let's separate the targets and labels\n",
    "X_train = train_df.drop('quality',axis=1)\n",
    "X_val = val_df.drop('quality',axis=1)\n",
    "y_train = train_df['quality']\n",
    "y_val = val_df['quality']\n",
    " \n",
    "# We'll need to pass the shape\n",
    "# of features/inputs as an argument\n",
    "# in our model, so let's define a variable\n",
    "# to save it.\n",
    "input_shape = [X_train.shape[1]]\n",
    " \n",
    "input_shape"
   ]
  },
  {
   "cell_type": "markdown",
   "id": "20ec6120",
   "metadata": {},
   "source": [
    "# Create Model Neural Network"
   ]
  },
  {
   "cell_type": "markdown",
   "id": "562d5836",
   "metadata": {},
   "source": [
    "# Create a linear Model"
   ]
  },
  {
   "cell_type": "code",
   "execution_count": 16,
   "id": "116dd913",
   "metadata": {},
   "outputs": [
    {
     "name": "stdout",
     "output_type": "stream",
     "text": [
      "Model: \"sequential_2\"\n",
      "_________________________________________________________________\n",
      " Layer (type)                Output Shape              Param #   \n",
      "=================================================================\n",
      " dense_4 (Dense)             (None, 1)                 12        \n",
      "                                                                 \n",
      "=================================================================\n",
      "Total params: 12\n",
      "Trainable params: 12\n",
      "Non-trainable params: 0\n",
      "_________________________________________________________________\n"
     ]
    }
   ],
   "source": [
    "model = tf.keras.Sequential([\n",
    "tf.keras.layers.Dense(units=1,input_shape=input_shape)])\n",
    "\n",
    "model.summary()"
   ]
  },
  {
   "cell_type": "markdown",
   "id": "72ba557b",
   "metadata": {},
   "source": [
    "# Creating a Multilayered Neural Network"
   ]
  },
  {
   "cell_type": "code",
   "execution_count": 18,
   "id": "c125fe99",
   "metadata": {},
   "outputs": [
    {
     "name": "stdout",
     "output_type": "stream",
     "text": [
      "Model: \"sequential_3\"\n",
      "_________________________________________________________________\n",
      " Layer (type)                Output Shape              Param #   \n",
      "=================================================================\n",
      " dense_5 (Dense)             (None, 64)                768       \n",
      "                                                                 \n",
      " dense_6 (Dense)             (None, 64)                4160      \n",
      "                                                                 \n",
      " dense_7 (Dense)             (None, 1)                 65        \n",
      "                                                                 \n",
      "=================================================================\n",
      "Total params: 4,993\n",
      "Trainable params: 4,993\n",
      "Non-trainable params: 0\n",
      "_________________________________________________________________\n"
     ]
    }
   ],
   "source": [
    "model = tf.keras.Sequential([\n",
    " \n",
    "    tf.keras.layers.Dense(units=64, activation='relu',\n",
    "                          input_shape=input_shape),\n",
    "    tf.keras.layers.Dense(units=64, activation='relu'),\n",
    "    tf.keras.layers.Dense(units=1)\n",
    "])\n",
    "model.summary()"
   ]
  },
  {
   "cell_type": "code",
   "execution_count": 20,
   "id": "a9a82c94",
   "metadata": {},
   "outputs": [],
   "source": [
    "\n",
    "model.compile(optimizer='adam', \n",
    "               \n",
    "              # MAE error is good for\n",
    "              # numerical predictions\n",
    "              loss='mae') "
   ]
  },
  {
   "cell_type": "markdown",
   "id": "e38a14df",
   "metadata": {},
   "source": [
    "# Training The Model"
   ]
  },
  {
   "cell_type": "code",
   "execution_count": 30,
   "id": "94eabba2",
   "metadata": {},
   "outputs": [
    {
     "name": "stdout",
     "output_type": "stream",
     "text": [
      "Epoch 1/15\n",
      "5/5 [==============================] - 0s 15ms/step - loss: 0.0963 - val_loss: 0.1000\n",
      "Epoch 2/15\n",
      "5/5 [==============================] - 0s 5ms/step - loss: 0.0961 - val_loss: 0.0997\n",
      "Epoch 3/15\n",
      "5/5 [==============================] - 0s 5ms/step - loss: 0.0957 - val_loss: 0.0996\n",
      "Epoch 4/15\n",
      "5/5 [==============================] - 0s 8ms/step - loss: 0.0953 - val_loss: 0.0995\n",
      "Epoch 5/15\n",
      "5/5 [==============================] - 0s 7ms/step - loss: 0.0953 - val_loss: 0.0996\n",
      "Epoch 6/15\n",
      "5/5 [==============================] - 0s 7ms/step - loss: 0.0954 - val_loss: 0.0993\n",
      "Epoch 7/15\n",
      "5/5 [==============================] - 0s 4ms/step - loss: 0.0948 - val_loss: 0.0992\n",
      "Epoch 8/15\n",
      "5/5 [==============================] - 0s 4ms/step - loss: 0.0945 - val_loss: 0.0990\n",
      "Epoch 9/15\n",
      "5/5 [==============================] - 0s 5ms/step - loss: 0.0943 - val_loss: 0.0989\n",
      "Epoch 10/15\n",
      "5/5 [==============================] - 0s 6ms/step - loss: 0.0940 - val_loss: 0.0988\n",
      "Epoch 11/15\n",
      "5/5 [==============================] - 0s 8ms/step - loss: 0.0936 - val_loss: 0.0989\n",
      "Epoch 12/15\n",
      "5/5 [==============================] - 0s 8ms/step - loss: 0.0933 - val_loss: 0.0987\n",
      "Epoch 13/15\n",
      "5/5 [==============================] - 0s 8ms/step - loss: 0.0934 - val_loss: 0.0986\n",
      "Epoch 14/15\n",
      "5/5 [==============================] - 0s 9ms/step - loss: 0.0930 - val_loss: 0.0985\n",
      "Epoch 15/15\n",
      "5/5 [==============================] - 0s 8ms/step - loss: 0.0930 - val_loss: 0.0983\n"
     ]
    }
   ],
   "source": [
    "losses = model.fit(X_train, y_train,\n",
    " \n",
    "                   validation_data=(X_val, y_val),\n",
    "                    \n",
    "                   # it will use 'batch_size' number\n",
    "                   # of examples per example\n",
    "                   batch_size=256,\n",
    "                   epochs=15,  # total epoch\n",
    " \n",
    "                   )"
   ]
  },
  {
   "cell_type": "markdown",
   "id": "e9797bfd",
   "metadata": {},
   "source": [
    "# Generate Predictions and Analyze Accuracy"
   ]
  },
  {
   "cell_type": "code",
   "execution_count": 32,
   "id": "20ad0e8f",
   "metadata": {},
   "outputs": [
    {
     "name": "stdout",
     "output_type": "stream",
     "text": [
      "1/1 [==============================] - 0s 17ms/step\n"
     ]
    },
    {
     "data": {
      "text/plain": [
       "array([[0.39490834],\n",
       "       [0.51943684],\n",
       "       [0.39907753]], dtype=float32)"
      ]
     },
     "execution_count": 32,
     "metadata": {},
     "output_type": "execute_result"
    }
   ],
   "source": [
    "# this will pass the first 3 rows of features\n",
    "# of our data as input to make predictions\n",
    "model.predict(X_val.iloc[0:3, :])"
   ]
  },
  {
   "cell_type": "markdown",
   "id": "3365572c",
   "metadata": {},
   "source": [
    "# Now, let’s compare our predictions with the target value."
   ]
  },
  {
   "cell_type": "code",
   "execution_count": 34,
   "id": "fc57cba3",
   "metadata": {},
   "outputs": [
    {
     "data": {
      "text/plain": [
       "0     0.4\n",
       "9     0.4\n",
       "12    0.4\n",
       "Name: quality, dtype: float64"
      ]
     },
     "execution_count": 34,
     "metadata": {},
     "output_type": "execute_result"
    }
   ],
   "source": [
    "y_val.iloc[0:3]"
   ]
  },
  {
   "cell_type": "markdown",
   "id": "2fb52c11",
   "metadata": {},
   "source": [
    "# Visualize Training Vs Validation Loss"
   ]
  },
  {
   "cell_type": "code",
   "execution_count": 36,
   "id": "e6d89b84",
   "metadata": {},
   "outputs": [
    {
     "data": {
      "text/plain": [
       "<Axes: >"
      ]
     },
     "execution_count": 36,
     "metadata": {},
     "output_type": "execute_result"
    },
    {
     "data": {
      "image/png": "[encoded data removed]",
      "text/plain": [
       "<Figure size 640x480 with 1 Axes>"
      ]
     },
     "metadata": {},
     "output_type": "display_data"
    }
   ],
   "source": [
    "loss_df = pd.DataFrame(losses.history)\n",
    " \n",
    "# history stores the loss/val\n",
    "# loss in each epoch\n",
    " \n",
    "# loss_df is a dataframe which\n",
    "# contains the losses so we can\n",
    "# plot it to visualize our model training\n",
    "loss_df.loc[:,['loss','val_loss']].plot()"
   ]
  },
  {
   "cell_type": "code",
   "execution_count": null,
   "id": "3b336910",
   "metadata": {},
   "outputs": [],
   "source": []
  },
  {
   "cell_type": "code",
   "execution_count": null,
   "id": "96c15d46",
   "metadata": {},
   "outputs": [],
   "source": []
  },
  {
   "cell_type": "code",
   "execution_count": null,
   "id": "dd6e3fa2",
   "metadata": {},
   "outputs": [],
   "source": []
  }
 ],
 "metadata": {
  "kernelspec": {
   "display_name": "Python 3 (ipykernel)",
   "language": "python",
   "name": "python3"
  },
  "language_info": {
   "codemirror_mode": {
    "name": "ipython",
    "version": 3
   },
   "file_extension": ".py",
   "mimetype": "text/x-python",
   "name": "python",
   "nbconvert_exporter": "python",
   "pygments_lexer": "ipython3",
   "version": "3.10.9"
  }
 },
 "nbformat": 4,
 "nbformat_minor": 5
}
